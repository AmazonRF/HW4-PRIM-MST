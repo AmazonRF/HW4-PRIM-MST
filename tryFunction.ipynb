{
 "cells": [
  {
   "cell_type": "code",
   "execution_count": 1,
   "metadata": {},
   "outputs": [],
   "source": [
    "import pytest\n",
    "import numpy as np\n",
    "from mst import Graph\n",
    "from sklearn.metrics import pairwise_distances"
   ]
  },
  {
   "cell_type": "code",
   "execution_count": 2,
   "metadata": {},
   "outputs": [],
   "source": [
    "def check_mst(adj_mat: np.ndarray, \n",
    "              mst: np.ndarray, \n",
    "              expected_weight: int, \n",
    "              allowed_error: float = 0.0001):\n",
    "    \"\"\"\n",
    "    \n",
    "    Helper function to check the correctness of the adjacency matrix encoding an MST.\n",
    "    Note that because the MST of a graph is not guaranteed to be unique, we cannot \n",
    "    simply check for equality against a known MST of a graph. \n",
    "\n",
    "    Arguments:\n",
    "        adj_mat: adjacency matrix of full graph\n",
    "        mst: adjacency matrix of proposed minimum spanning tree\n",
    "        expected_weight: weight of the minimum spanning tree of the full graph\n",
    "        allowed_error: allowed difference between proposed MST weight and `expected_weight`\n",
    "\n",
    "    TODO: Add additional assertions to ensure the correctness of your MST implementation. For\n",
    "    example, how many edges should a minimum spanning tree have? Are minimum spanning trees\n",
    "    always connected? What else can you think of?\n",
    "\n",
    "    \"\"\"\n",
    "\n",
    "    def approx_equal(a, b):\n",
    "        return abs(a - b) < allowed_error\n",
    "\n",
    "    total = 0\n",
    "    for i in range(mst.shape[0]):\n",
    "        for j in range(i+1):\n",
    "            total += mst[i, j]\n",
    "            \n",
    "    # assert approx_equal(total, expected_weight), 'Proposed MST has incorrect expected weight'\n",
    "    print((total,expected_weight))"
   ]
  },
  {
   "cell_type": "code",
   "execution_count": 3,
   "metadata": {},
   "outputs": [],
   "source": [
    "file_path = './data/slingshot_example.txt'\n",
    "coords = np.loadtxt(file_path) # load coordinates of single cells in low-dimensional subspace\n",
    "dist_mat = pairwise_distances(coords) # compute pairwise distances to form graph\n"
   ]
  },
  {
   "cell_type": "code",
   "execution_count": 4,
   "metadata": {},
   "outputs": [
    {
     "data": {
      "text/plain": [
       "array([[ 0.        ,  0.76216519,  2.1732807 , ..., 13.29560662,\n",
       "        14.89934831, 13.33280807],\n",
       "       [ 0.76216519,  0.        ,  1.4111224 , ..., 12.5830895 ,\n",
       "        14.18923971, 12.61080021],\n",
       "       [ 2.1732807 ,  1.4111224 ,  0.        , ..., 11.28408483,\n",
       "        12.89327348, 11.29073429],\n",
       "       ...,\n",
       "       [13.29560662, 12.5830895 , 11.28408483, ...,  0.        ,\n",
       "         1.60955581,  0.47860832],\n",
       "       [14.89934831, 14.18923971, 12.89327348, ...,  1.60955581,\n",
       "         0.        ,  1.69297641],\n",
       "       [13.33280807, 12.61080021, 11.29073429, ...,  0.47860832,\n",
       "         1.69297641,  0.        ]])"
      ]
     },
     "execution_count": 4,
     "metadata": {},
     "output_type": "execute_result"
    }
   ],
   "source": [
    "dist_mat"
   ]
  },
  {
   "cell_type": "code",
   "execution_count": 5,
   "metadata": {},
   "outputs": [
    {
     "name": "stdout",
     "output_type": "stream",
     "text": [
      "16.899348313145875\n"
     ]
    }
   ],
   "source": [
    "g = Graph(dist_mat)\n",
    "g.construct_mst()\n"
   ]
  },
  {
   "cell_type": "code",
   "execution_count": 7,
   "metadata": {},
   "outputs": [
    {
     "name": "stdout",
     "output_type": "stream",
     "text": [
      "(1.124194420326916, 57.263561605571695)\n"
     ]
    }
   ],
   "source": [
    "check_mst(g.adj_mat, g.mst, 57.263561605571695)"
   ]
  },
  {
   "cell_type": "code",
   "execution_count": 8,
   "metadata": {},
   "outputs": [
    {
     "data": {
      "text/plain": [
       "array([0.27976269, 0.48574831, 0.27976269, 0.35868341, 0.48574831,\n",
       "       0.35868341])"
      ]
     },
     "execution_count": 8,
     "metadata": {},
     "output_type": "execute_result"
    }
   ],
   "source": [
    "(g.mst[g.mst>0])"
   ]
  },
  {
   "cell_type": "code",
   "execution_count": 18,
   "metadata": {},
   "outputs": [
    {
     "data": {
      "text/plain": [
       "14.899348313145875"
      ]
     },
     "execution_count": 18,
     "metadata": {},
     "output_type": "execute_result"
    }
   ],
   "source": [
    "np.max(g.adj_mat)"
   ]
  },
  {
   "cell_type": "code",
   "execution_count": null,
   "metadata": {},
   "outputs": [],
   "source": []
  }
 ],
 "metadata": {
  "kernelspec": {
   "display_name": "ucsfbp",
   "language": "python",
   "name": "python3"
  },
  "language_info": {
   "codemirror_mode": {
    "name": "ipython",
    "version": 3
   },
   "file_extension": ".py",
   "mimetype": "text/x-python",
   "name": "python",
   "nbconvert_exporter": "python",
   "pygments_lexer": "ipython3",
   "version": "3.11.4"
  }
 },
 "nbformat": 4,
 "nbformat_minor": 2
}
