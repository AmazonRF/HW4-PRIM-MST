{
 "cells": [
  {
   "cell_type": "code",
   "execution_count": 1,
   "metadata": {},
   "outputs": [
    {
     "name": "stdout",
     "output_type": "stream",
     "text": [
      "Total weight of the minimum spanning tree: inf\n",
      "Edges in the minimum spanning tree: [(0, 1), (0, 3)]\n"
     ]
    }
   ],
   "source": [
    "import numpy as np\n",
    "\n",
    "def prim_algorithm(graph):\n",
    "    \"\"\"\n",
    "    Prim's algorithm to find the minimum spanning tree of a graph.\n",
    "    \n",
    "    Args:\n",
    "    - graph (np.array): 2D numpy array representing an adjacency matrix of the graph,\n",
    "                        where graph[i][j] represents the weight of the edge between i and j,\n",
    "                        and a weight of 0 indicates no edge.\n",
    "    \n",
    "    Returns:\n",
    "    - total_weight (int): The total weight of the minimum spanning tree.\n",
    "    - mst_edges (list): List of edges in the minimum spanning tree.\n",
    "    \"\"\"\n",
    "    num_vertices = graph.shape[0]\n",
    "    # Array to track vertices not yet included in MST\n",
    "    in_mst = np.zeros(num_vertices, dtype=bool)\n",
    "    # Array to track minimum weight edge for each vertex\n",
    "    min_edge = np.full(num_vertices, np.inf)\n",
    "    # Parent array to store the MST\n",
    "    parents = np.full(num_vertices, -1, dtype=int)\n",
    "\n",
    "    # Start from the first vertex\n",
    "    min_edge[0] = 0\n",
    "    \n",
    "    for _ in range(num_vertices):\n",
    "        # Pick the minimum weight vertex from the set of vertices not yet included in MST\n",
    "        u = np.argmin(min_edge[~in_mst])\n",
    "        in_mst[u] = True  # Include vertex in MST\n",
    "        \n",
    "        # Update min weight edge and parent index of the adjacent vertices of the picked vertex\n",
    "        for v in range(num_vertices):\n",
    "            if graph[u, v] > 0 and in_mst[v] == False and min_edge[v] > graph[u, v]:\n",
    "                min_edge[v] = graph[u, v]\n",
    "                parents[v] = u\n",
    "                \n",
    "    total_weight = np.sum(min_edge)\n",
    "    mst_edges = [(parents[i], i) for i in range(1, num_vertices) if parents[i] != -1]\n",
    "    \n",
    "    return total_weight, mst_edges\n",
    "\n",
    "# Example usage\n",
    "graph = np.array([\n",
    "    [0, 5, 0, 5],\n",
    "    [5, 0, 1, 2],\n",
    "    [0, 1, 0, 4],\n",
    "    [5, 2, 4, 0]\n",
    "])\n",
    "\n",
    "total_weight, mst_edges = prim_algorithm(graph)\n",
    "print(f\"Total weight of the minimum spanning tree: {total_weight}\")\n",
    "print(\"Edges in the minimum spanning tree:\", mst_edges)\n"
   ]
  },
  {
   "cell_type": "code",
   "execution_count": 3,
   "metadata": {},
   "outputs": [
    {
     "data": {
      "text/plain": [
       "4"
      ]
     },
     "execution_count": 3,
     "metadata": {},
     "output_type": "execute_result"
    }
   ],
   "source": [
    "graphNodeNo = graph.shape[0]\n",
    "graphNodeNo"
   ]
  },
  {
   "cell_type": "code",
   "execution_count": 11,
   "metadata": {},
   "outputs": [
    {
     "name": "stdout",
     "output_type": "stream",
     "text": [
      "[[7 5 7 5]\n",
      " [5 7 1 2]\n",
      " [7 1 7 4]\n",
      " [5 2 4 7]]\n",
      "0 [1] [5] 1 0\n",
      "[[0. 1. 0. 0.]\n",
      " [1. 0. 0. 0.]\n",
      " [0. 0. 0. 0.]\n",
      " [0. 0. 0. 0.]]\n",
      "[[7 7 7 5]\n",
      " [7 7 1 2]\n",
      " [7 1 7 4]\n",
      " [5 2 4 7]]\n",
      "0 [3] [5] 3 0\n",
      "[[0. 1. 0. 1.]\n",
      " [1. 0. 0. 0.]\n",
      " [0. 0. 0. 0.]\n",
      " [1. 0. 0. 0.]]\n",
      "[[7 7 7 7]\n",
      " [7 7 1 2]\n",
      " [7 1 7 4]\n",
      " [7 2 4 7]]\n",
      "0 [0] [7] 0 0\n",
      "[[1. 1. 0. 1.]\n",
      " [1. 0. 0. 0.]\n",
      " [0. 0. 0. 0.]\n",
      " [1. 0. 0. 0.]]\n",
      "[[7 7 7 7]\n",
      " [7 7 1 2]\n",
      " [7 1 7 4]\n",
      " [7 2 4 7]]\n",
      "0 [0] [7] 0 0\n",
      "[[1. 1. 0. 1.]\n",
      " [1. 0. 0. 0.]\n",
      " [0. 0. 0. 0.]\n",
      " [1. 0. 0. 0.]]\n",
      "[[7 7 7 7]\n",
      " [7 7 1 2]\n",
      " [7 1 7 4]\n",
      " [7 2 4 7]]\n"
     ]
    }
   ],
   "source": [
    "graph = np.array([\n",
    "    [0, 5, 0, 5],\n",
    "    [5, 0, 1, 2],\n",
    "    [0, 1, 0, 4],\n",
    "    [5, 2, 4, 0]\n",
    "])\n",
    "graph[graph ==0] = 7\n",
    "print(graph)\n",
    "mstNode = []\n",
    "\n",
    "graphNodeNo = int(graph.shape[0])\n",
    "res = np.zeros(graph.shape)\n",
    "#append initial node\n",
    "mstNode.append(0)\n",
    "\n",
    "for _ in range(graphNodeNo):\n",
    "    tempNext = []\n",
    "    tempValue = []\n",
    "\n",
    "    for node in mstNode:\n",
    "        t = np.argmin(graph[node])\n",
    "        tempNext.append(t)\n",
    "        tempValue.append(graph[node][t])\n",
    "    \n",
    "    finNext = tempNext[np.argmax(tempValue)]\n",
    "    mother = np.argmax(tempValue)\n",
    "    print(node,tempNext, tempValue,finNext,mother)\n",
    "\n",
    "    res[finNext][mother] = 1\n",
    "    res[mother][finNext] = 1\n",
    "\n",
    "    graph[node][finNext] = 7\n",
    "    graph[finNext][node] = 7\n",
    "    mstNode.append(finNext)\n",
    "    print(res)\n",
    "    print(graph)\n",
    "\n",
    "\n",
    "\n",
    "\n"
   ]
  },
  {
   "cell_type": "code",
   "execution_count": 5,
   "metadata": {},
   "outputs": [
    {
     "data": {
      "text/plain": [
       "array([[1., 1., 1., 1.],\n",
       "       [1., 0., 0., 0.],\n",
       "       [1., 0., 0., 0.],\n",
       "       [1., 0., 0., 0.]])"
      ]
     },
     "execution_count": 5,
     "metadata": {},
     "output_type": "execute_result"
    }
   ],
   "source": [
    "res"
   ]
  },
  {
   "cell_type": "code",
   "execution_count": null,
   "metadata": {},
   "outputs": [],
   "source": []
  }
 ],
 "metadata": {
  "kernelspec": {
   "display_name": "ucsfbp",
   "language": "python",
   "name": "python3"
  },
  "language_info": {
   "codemirror_mode": {
    "name": "ipython",
    "version": 3
   },
   "file_extension": ".py",
   "mimetype": "text/x-python",
   "name": "python",
   "nbconvert_exporter": "python",
   "pygments_lexer": "ipython3",
   "version": "3.11.4"
  }
 },
 "nbformat": 4,
 "nbformat_minor": 2
}
